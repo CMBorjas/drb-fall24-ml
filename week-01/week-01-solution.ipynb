{
 "cells": [
  {
   "cell_type": "code",
   "execution_count": 21,
   "id": "127ea0a8-25ad-4a03-924f-fe2b7f55fd94",
   "metadata": {},
   "outputs": [],
   "source": [
    "import logging\n",
    "#logging config\n",
    "logging.basicConfig(\n",
    "\t\t\t\t\tlevel=logging.DEBUG,\n",
    "\t\t\t\t\tformat='%(levelname)-6s | %(asctime)s | %(message)s',\n",
    "\t\t\t\t\tfilename=f'logs/week-01-activities.log',\n",
    "\t\t\t\t\tfilemode='w',\n",
    "\t\t\t\t\t)\n",
    "logger = logging.getLogger()"
   ]
  },
  {
   "cell_type": "markdown",
   "id": "3192b43a-07d4-4936-9dec-88b47881f41a",
   "metadata": {},
   "source": [
    "### Q-3\n",
    "* How many rows are in dataset: `week-01/datasets/A.csv`? How about in `week-01/datasets/B.txt` and in `week-01/datasets/C.csv`?"
   ]
  },
  {
   "cell_type": "code",
   "execution_count": 32,
   "id": "d2e734b7-f7dd-4b95-b662-b96a66007209",
   "metadata": {},
   "outputs": [],
   "source": [
    "with open('datasets/A.csv','r') as f:\n",
    "    counter = 0\n",
    "    for line in f:\n",
    "        counter += 1\n",
    "    logger.info(f'num lines of A is {counter}')"
   ]
  },
  {
   "cell_type": "code",
   "execution_count": 33,
   "id": "a0f34ee1-dc77-41d6-bac7-f866b294704a",
   "metadata": {},
   "outputs": [],
   "source": [
    "with open('datasets/B.txt','r') as f:\n",
    "    counter = 0\n",
    "    for line in f:\n",
    "        counter += 1\n",
    "    logger.info(f'num lines of B is {counter}')"
   ]
  },
  {
   "cell_type": "code",
   "execution_count": 34,
   "id": "816820d6-5739-434e-bffe-1d4523ea2b22",
   "metadata": {},
   "outputs": [],
   "source": [
    "with open('datasets/C.csv','r') as f:\n",
    "    counter = 0\n",
    "    for line in f:\n",
    "        counter += 1\n",
    "    logger.info(f'num lines of C is {counter}')"
   ]
  },
  {
   "cell_type": "code",
   "execution_count": 36,
   "id": "3e910c5b-2551-4cbb-9fb4-3802a57ebf02",
   "metadata": {},
   "outputs": [],
   "source": [
    "#a better ~ time-efficient way\n",
    "with open('datasets/A.csv','r') as f:\n",
    "    logger.info(f'num lines of A is {sum([1 for _ in f])}')\n",
    "    "
   ]
  },
  {
   "cell_type": "markdown",
   "id": "da92ec83-f30c-4c32-b1c5-e829391d0f6c",
   "metadata": {},
   "source": [
    "### Q-4\n",
    "* How many samples are in dataset: `week-01/datasets/A.csv`? How about in `week-01/datasets/B.txt` and in `week-01/datasets/C.csv`?"
   ]
  },
  {
   "cell_type": "code",
   "execution_count": 1,
   "id": "2f4cdf5b-c062-4747-9c46-d28619e547b9",
   "metadata": {},
   "outputs": [],
   "source": [
    "import pandas as pd"
   ]
  },
  {
   "cell_type": "code",
   "execution_count": 8,
   "id": "2f50580b-c0a4-485a-9f4f-ef6c80dd5600",
   "metadata": {},
   "outputs": [],
   "source": [
    "A = pd.read_csv('datasets/A.csv',\n",
    "                     sep=',', #default is comma (,)\n",
    "                     header=0, #default is `infer` ~ header=0th row\n",
    "                    )"
   ]
  },
  {
   "cell_type": "code",
   "execution_count": 9,
   "id": "1ad3db4d-4e69-46b5-a72d-33439d2d61f8",
   "metadata": {},
   "outputs": [
    {
     "data": {
      "text/html": [
       "<div>\n",
       "<style scoped>\n",
       "    .dataframe tbody tr th:only-of-type {\n",
       "        vertical-align: middle;\n",
       "    }\n",
       "\n",
       "    .dataframe tbody tr th {\n",
       "        vertical-align: top;\n",
       "    }\n",
       "\n",
       "    .dataframe thead th {\n",
       "        text-align: right;\n",
       "    }\n",
       "</style>\n",
       "<table border=\"1\" class=\"dataframe\">\n",
       "  <thead>\n",
       "    <tr style=\"text-align: right;\">\n",
       "      <th></th>\n",
       "      <th>CustomerId</th>\n",
       "      <th>Surname</th>\n",
       "      <th>CreditScore</th>\n",
       "      <th>Geography</th>\n",
       "      <th>Gender</th>\n",
       "      <th>Age</th>\n",
       "      <th>Tenure</th>\n",
       "      <th>Balance</th>\n",
       "      <th>NumOfProducts</th>\n",
       "      <th>HasCrCard</th>\n",
       "      <th>IsActiveMember</th>\n",
       "      <th>EstimatedSalary</th>\n",
       "      <th>Exited</th>\n",
       "    </tr>\n",
       "  </thead>\n",
       "  <tbody>\n",
       "    <tr>\n",
       "      <th>0</th>\n",
       "      <td>15647572</td>\n",
       "      <td>Greece</td>\n",
       "      <td>504</td>\n",
       "      <td>Spain</td>\n",
       "      <td>Male</td>\n",
       "      <td>34</td>\n",
       "      <td>0</td>\n",
       "      <td>54980.81</td>\n",
       "      <td>1</td>\n",
       "      <td>1</td>\n",
       "      <td>1</td>\n",
       "      <td>136909.88</td>\n",
       "      <td>0</td>\n",
       "    </tr>\n",
       "  </tbody>\n",
       "</table>\n",
       "</div>"
      ],
      "text/plain": [
       "   CustomerId Surname  CreditScore Geography Gender  Age  Tenure   Balance  \\\n",
       "0    15647572  Greece          504     Spain   Male   34       0  54980.81   \n",
       "\n",
       "   NumOfProducts  HasCrCard  IsActiveMember  EstimatedSalary  Exited  \n",
       "0              1          1               1        136909.88       0  "
      ]
     },
     "execution_count": 9,
     "metadata": {},
     "output_type": "execute_result"
    }
   ],
   "source": [
    "A.head(n=1)"
   ]
  },
  {
   "cell_type": "code",
   "execution_count": 10,
   "id": "05b060c1-1ea3-4c0f-b434-3ca4bc6a51e4",
   "metadata": {},
   "outputs": [
    {
     "data": {
      "text/plain": [
       "Index(['CustomerId', 'Surname', 'CreditScore', 'Geography', 'Gender', 'Age',\n",
       "       'Tenure', 'Balance', 'NumOfProducts', 'HasCrCard', 'IsActiveMember',\n",
       "       'EstimatedSalary', 'Exited'],\n",
       "      dtype='object')"
      ]
     },
     "execution_count": 10,
     "metadata": {},
     "output_type": "execute_result"
    }
   ],
   "source": [
    "A.columns"
   ]
  },
  {
   "cell_type": "code",
   "execution_count": 11,
   "id": "10eb63c1-3ccc-456f-8380-32de3f1a80cf",
   "metadata": {},
   "outputs": [
    {
     "data": {
      "text/plain": [
       "(9000, 13)"
      ]
     },
     "execution_count": 11,
     "metadata": {},
     "output_type": "execute_result"
    }
   ],
   "source": [
    "A.shape"
   ]
  },
  {
   "cell_type": "code",
   "execution_count": 22,
   "id": "6eae6c98-365b-4020-9c4d-0e6602e0bd36",
   "metadata": {},
   "outputs": [],
   "source": [
    "logger.info(f'num rows of A is {A.shape[0]}')\n"
   ]
  },
  {
   "cell_type": "code",
   "execution_count": 15,
   "id": "7137ac9b-c923-4919-91f8-251632d574ec",
   "metadata": {},
   "outputs": [],
   "source": [
    "B = pd.read_csv('datasets/B.txt',\n",
    "                header=None, #no header row present\n",
    "                sep='\\s+',\n",
    "               )"
   ]
  },
  {
   "cell_type": "code",
   "execution_count": 16,
   "id": "cf9c0d95-0887-4292-ab99-5f265ceb048d",
   "metadata": {},
   "outputs": [
    {
     "data": {
      "text/html": [
       "<div>\n",
       "<style scoped>\n",
       "    .dataframe tbody tr th:only-of-type {\n",
       "        vertical-align: middle;\n",
       "    }\n",
       "\n",
       "    .dataframe tbody tr th {\n",
       "        vertical-align: top;\n",
       "    }\n",
       "\n",
       "    .dataframe thead th {\n",
       "        text-align: right;\n",
       "    }\n",
       "</style>\n",
       "<table border=\"1\" class=\"dataframe\">\n",
       "  <thead>\n",
       "    <tr style=\"text-align: right;\">\n",
       "      <th></th>\n",
       "      <th>0</th>\n",
       "      <th>1</th>\n",
       "      <th>2</th>\n",
       "      <th>3</th>\n",
       "      <th>4</th>\n",
       "      <th>5</th>\n",
       "      <th>6</th>\n",
       "      <th>7</th>\n",
       "      <th>8</th>\n",
       "      <th>9</th>\n",
       "      <th>10</th>\n",
       "      <th>11</th>\n",
       "      <th>12</th>\n",
       "      <th>13</th>\n",
       "    </tr>\n",
       "  </thead>\n",
       "  <tbody>\n",
       "    <tr>\n",
       "      <th>0</th>\n",
       "      <td>AQC00914000</td>\n",
       "      <td>1981</td>\n",
       "      <td>4279</td>\n",
       "      <td>3745</td>\n",
       "      <td>10762</td>\n",
       "      <td>6067</td>\n",
       "      <td>4096</td>\n",
       "      <td>3606</td>\n",
       "      <td>6203</td>\n",
       "      <td>5292</td>\n",
       "      <td>3092</td>\n",
       "      <td>6866</td>\n",
       "      <td>7163</td>\n",
       "      <td>7866</td>\n",
       "    </tr>\n",
       "  </tbody>\n",
       "</table>\n",
       "</div>"
      ],
      "text/plain": [
       "            0     1     2     3      4     5     6     7     8     9     10  \\\n",
       "0  AQC00914000  1981  4279  3745  10762  6067  4096  3606  6203  5292  3092   \n",
       "\n",
       "     11    12    13  \n",
       "0  6866  7163  7866  "
      ]
     },
     "execution_count": 16,
     "metadata": {},
     "output_type": "execute_result"
    }
   ],
   "source": [
    "B.head(n=1)"
   ]
  },
  {
   "cell_type": "code",
   "execution_count": 17,
   "id": "b7f850f0-906e-41a1-8da0-632fbc4e96c5",
   "metadata": {},
   "outputs": [
    {
     "data": {
      "text/plain": [
       "(232043, 14)"
      ]
     },
     "execution_count": 17,
     "metadata": {},
     "output_type": "execute_result"
    }
   ],
   "source": [
    "B.shape"
   ]
  },
  {
   "cell_type": "code",
   "execution_count": 23,
   "id": "50df96e8-57b2-4c4c-a130-53da3d611042",
   "metadata": {},
   "outputs": [],
   "source": [
    "logger.info(f'num rows of B is {B.shape[0]}')"
   ]
  },
  {
   "cell_type": "code",
   "execution_count": null,
   "id": "ce624197-63a8-4015-a641-ef28606a2b93",
   "metadata": {},
   "outputs": [],
   "source": []
  },
  {
   "cell_type": "code",
   "execution_count": 28,
   "id": "abce0750-edf6-4265-93d1-ab1de0fdf764",
   "metadata": {},
   "outputs": [],
   "source": [
    "C = pd.read_csv('datasets/C.csv',\n",
    "                header=0, #first row is header row\n",
    "                sep=';',\n",
    "                skiprows=[1] #skip the second row\n",
    "               )"
   ]
  },
  {
   "cell_type": "code",
   "execution_count": 30,
   "id": "0e5dd808-517e-42ea-909d-3730d1bca8a6",
   "metadata": {},
   "outputs": [
    {
     "data": {
      "text/html": [
       "<div>\n",
       "<style scoped>\n",
       "    .dataframe tbody tr th:only-of-type {\n",
       "        vertical-align: middle;\n",
       "    }\n",
       "\n",
       "    .dataframe tbody tr th {\n",
       "        vertical-align: top;\n",
       "    }\n",
       "\n",
       "    .dataframe thead th {\n",
       "        text-align: right;\n",
       "    }\n",
       "</style>\n",
       "<table border=\"1\" class=\"dataframe\">\n",
       "  <thead>\n",
       "    <tr style=\"text-align: right;\">\n",
       "      <th></th>\n",
       "      <th>name</th>\n",
       "      <th>mfr</th>\n",
       "      <th>type</th>\n",
       "      <th>calories</th>\n",
       "      <th>protein</th>\n",
       "      <th>fat</th>\n",
       "      <th>sodium</th>\n",
       "      <th>fiber</th>\n",
       "      <th>carbo</th>\n",
       "      <th>sugars</th>\n",
       "      <th>potass</th>\n",
       "      <th>vitamins</th>\n",
       "      <th>shelf</th>\n",
       "      <th>weight</th>\n",
       "      <th>cups</th>\n",
       "      <th>rating</th>\n",
       "    </tr>\n",
       "  </thead>\n",
       "  <tbody>\n",
       "    <tr>\n",
       "      <th>0</th>\n",
       "      <td>100% Bran</td>\n",
       "      <td>N</td>\n",
       "      <td>C</td>\n",
       "      <td>70</td>\n",
       "      <td>4</td>\n",
       "      <td>1</td>\n",
       "      <td>130</td>\n",
       "      <td>10.0</td>\n",
       "      <td>5.0</td>\n",
       "      <td>6</td>\n",
       "      <td>280</td>\n",
       "      <td>25</td>\n",
       "      <td>3</td>\n",
       "      <td>1.0</td>\n",
       "      <td>0.33</td>\n",
       "      <td>68.402973</td>\n",
       "    </tr>\n",
       "    <tr>\n",
       "      <th>1</th>\n",
       "      <td>100% Natural Bran</td>\n",
       "      <td>Q</td>\n",
       "      <td>C</td>\n",
       "      <td>120</td>\n",
       "      <td>3</td>\n",
       "      <td>5</td>\n",
       "      <td>15</td>\n",
       "      <td>2.0</td>\n",
       "      <td>8.0</td>\n",
       "      <td>8</td>\n",
       "      <td>135</td>\n",
       "      <td>0</td>\n",
       "      <td>3</td>\n",
       "      <td>1.0</td>\n",
       "      <td>1.00</td>\n",
       "      <td>33.983679</td>\n",
       "    </tr>\n",
       "    <tr>\n",
       "      <th>2</th>\n",
       "      <td>All-Bran</td>\n",
       "      <td>K</td>\n",
       "      <td>C</td>\n",
       "      <td>70</td>\n",
       "      <td>4</td>\n",
       "      <td>1</td>\n",
       "      <td>260</td>\n",
       "      <td>9.0</td>\n",
       "      <td>7.0</td>\n",
       "      <td>5</td>\n",
       "      <td>320</td>\n",
       "      <td>25</td>\n",
       "      <td>3</td>\n",
       "      <td>1.0</td>\n",
       "      <td>0.33</td>\n",
       "      <td>59.425505</td>\n",
       "    </tr>\n",
       "    <tr>\n",
       "      <th>3</th>\n",
       "      <td>All-Bran with Extra Fiber</td>\n",
       "      <td>K</td>\n",
       "      <td>C</td>\n",
       "      <td>50</td>\n",
       "      <td>4</td>\n",
       "      <td>0</td>\n",
       "      <td>140</td>\n",
       "      <td>14.0</td>\n",
       "      <td>8.0</td>\n",
       "      <td>0</td>\n",
       "      <td>330</td>\n",
       "      <td>25</td>\n",
       "      <td>3</td>\n",
       "      <td>1.0</td>\n",
       "      <td>0.50</td>\n",
       "      <td>93.704912</td>\n",
       "    </tr>\n",
       "    <tr>\n",
       "      <th>4</th>\n",
       "      <td>Almond Delight</td>\n",
       "      <td>R</td>\n",
       "      <td>C</td>\n",
       "      <td>110</td>\n",
       "      <td>2</td>\n",
       "      <td>2</td>\n",
       "      <td>200</td>\n",
       "      <td>1.0</td>\n",
       "      <td>14.0</td>\n",
       "      <td>8</td>\n",
       "      <td>-1</td>\n",
       "      <td>25</td>\n",
       "      <td>3</td>\n",
       "      <td>1.0</td>\n",
       "      <td>0.75</td>\n",
       "      <td>34.384843</td>\n",
       "    </tr>\n",
       "  </tbody>\n",
       "</table>\n",
       "</div>"
      ],
      "text/plain": [
       "                        name mfr type  calories  protein  fat  sodium  fiber  \\\n",
       "0                  100% Bran   N    C        70        4    1     130   10.0   \n",
       "1          100% Natural Bran   Q    C       120        3    5      15    2.0   \n",
       "2                   All-Bran   K    C        70        4    1     260    9.0   \n",
       "3  All-Bran with Extra Fiber   K    C        50        4    0     140   14.0   \n",
       "4             Almond Delight   R    C       110        2    2     200    1.0   \n",
       "\n",
       "   carbo  sugars  potass  vitamins  shelf  weight  cups     rating  \n",
       "0    5.0       6     280        25      3     1.0  0.33  68.402973  \n",
       "1    8.0       8     135         0      3     1.0  1.00  33.983679  \n",
       "2    7.0       5     320        25      3     1.0  0.33  59.425505  \n",
       "3    8.0       0     330        25      3     1.0  0.50  93.704912  \n",
       "4   14.0       8      -1        25      3     1.0  0.75  34.384843  "
      ]
     },
     "execution_count": 30,
     "metadata": {},
     "output_type": "execute_result"
    }
   ],
   "source": [
    "C.head(n=5)"
   ]
  },
  {
   "cell_type": "code",
   "execution_count": 31,
   "id": "1102b229-9d62-4542-bbdd-07d3987ac47c",
   "metadata": {},
   "outputs": [],
   "source": [
    "logger.info(f'num rows of C is {C.shape[0]}')"
   ]
  },
  {
   "cell_type": "markdown",
   "id": "beb266ab-dac9-4e2a-84e9-10ffa33fb5cd",
   "metadata": {},
   "source": [
    "### Q-5\n",
    "* How many columns are there in each of the 3 datasets?"
   ]
  },
  {
   "cell_type": "code",
   "execution_count": 37,
   "id": "f3d5e1a0-e455-4c23-80a8-4efc69756328",
   "metadata": {},
   "outputs": [],
   "source": [
    "logger.info(f'num of columns in A is {len(A.columns)}')\n",
    "logger.info(f'num of columns in B is {len(B.columns)}')\n",
    "logger.info(f'num of columns in C is {len(C.columns)}')"
   ]
  },
  {
   "cell_type": "markdown",
   "id": "c72c80c3-a683-404f-80f6-4a9a39060e66",
   "metadata": {},
   "source": [
    "### Q-6\n",
    "* Compute the mean of the last (i.e., rightmost) column of `week-01/datasets/C.csv`?"
   ]
  },
  {
   "cell_type": "code",
   "execution_count": 50,
   "id": "2f8e4129-faa9-4edb-8b7d-e0f20ad62a14",
   "metadata": {},
   "outputs": [],
   "source": [
    "logger.info(f'mean of rightmost column of C is {C[[\"rating\"]].mean().iloc[0,]:.2f}')"
   ]
  },
  {
   "cell_type": "markdown",
   "id": "a6e81129-434f-43cc-84bf-56d6cf92734c",
   "metadata": {},
   "source": [
    "### Q-7\n",
    "* Where (i.e, in which sample) the two datasets: `week-01/datasets/B.txt` and `week-01/datasets/D.txt` differ?"
   ]
  },
  {
   "cell_type": "code",
   "execution_count": 51,
   "id": "08620bf1-cece-406d-90ea-292375febf21",
   "metadata": {},
   "outputs": [
    {
     "name": "stdout",
     "output_type": "stream",
     "text": [
      "/bin/bash: /home/ashiskb/miniconda3/envs/venv-p39-tf213user/lib/libtinfo.so.6: no version information available (required by /bin/bash)\n",
      "112590c112590\n",
      "< USC00286460 1981   279   1511    261    916   1559    910   1351    386    855   1114    396   1192 \n",
      "---\n",
      "> USC00286460 1981   279   1511    261    916   1559    91l   1351    386    855   1114    396   1192 \n"
     ]
    }
   ],
   "source": [
    "!diff datasets/B.txt datasets/D.txt"
   ]
  },
  {
   "cell_type": "markdown",
   "id": "6c9e4751-6f3b-48f8-be87-4ff54017714b",
   "metadata": {},
   "source": [
    "### Q-8\n",
    "* What is the average credit score among the samples found in `week-01/datasets/A.csv`?"
   ]
  },
  {
   "cell_type": "code",
   "execution_count": 52,
   "id": "3bf63c4b-3bcf-4661-85fa-90971a5741b7",
   "metadata": {},
   "outputs": [
    {
     "data": {
      "text/html": [
       "<div>\n",
       "<style scoped>\n",
       "    .dataframe tbody tr th:only-of-type {\n",
       "        vertical-align: middle;\n",
       "    }\n",
       "\n",
       "    .dataframe tbody tr th {\n",
       "        vertical-align: top;\n",
       "    }\n",
       "\n",
       "    .dataframe thead th {\n",
       "        text-align: right;\n",
       "    }\n",
       "</style>\n",
       "<table border=\"1\" class=\"dataframe\">\n",
       "  <thead>\n",
       "    <tr style=\"text-align: right;\">\n",
       "      <th></th>\n",
       "      <th>CustomerId</th>\n",
       "      <th>Surname</th>\n",
       "      <th>CreditScore</th>\n",
       "      <th>Geography</th>\n",
       "      <th>Gender</th>\n",
       "      <th>Age</th>\n",
       "      <th>Tenure</th>\n",
       "      <th>Balance</th>\n",
       "      <th>NumOfProducts</th>\n",
       "      <th>HasCrCard</th>\n",
       "      <th>IsActiveMember</th>\n",
       "      <th>EstimatedSalary</th>\n",
       "      <th>Exited</th>\n",
       "    </tr>\n",
       "  </thead>\n",
       "  <tbody>\n",
       "    <tr>\n",
       "      <th>0</th>\n",
       "      <td>15647572</td>\n",
       "      <td>Greece</td>\n",
       "      <td>504</td>\n",
       "      <td>Spain</td>\n",
       "      <td>Male</td>\n",
       "      <td>34</td>\n",
       "      <td>0</td>\n",
       "      <td>54980.81</td>\n",
       "      <td>1</td>\n",
       "      <td>1</td>\n",
       "      <td>1</td>\n",
       "      <td>136909.88</td>\n",
       "      <td>0</td>\n",
       "    </tr>\n",
       "    <tr>\n",
       "      <th>1</th>\n",
       "      <td>15797692</td>\n",
       "      <td>Volkova</td>\n",
       "      <td>659</td>\n",
       "      <td>France</td>\n",
       "      <td>Female</td>\n",
       "      <td>33</td>\n",
       "      <td>7</td>\n",
       "      <td>89939.62</td>\n",
       "      <td>1</td>\n",
       "      <td>1</td>\n",
       "      <td>0</td>\n",
       "      <td>136540.09</td>\n",
       "      <td>0</td>\n",
       "    </tr>\n",
       "    <tr>\n",
       "      <th>2</th>\n",
       "      <td>15713559</td>\n",
       "      <td>Onyemauchechukwu</td>\n",
       "      <td>473</td>\n",
       "      <td>Germany</td>\n",
       "      <td>Female</td>\n",
       "      <td>32</td>\n",
       "      <td>5</td>\n",
       "      <td>146602.25</td>\n",
       "      <td>2</td>\n",
       "      <td>1</td>\n",
       "      <td>1</td>\n",
       "      <td>72946.95</td>\n",
       "      <td>0</td>\n",
       "    </tr>\n",
       "    <tr>\n",
       "      <th>3</th>\n",
       "      <td>15595067</td>\n",
       "      <td>Zhirov</td>\n",
       "      <td>637</td>\n",
       "      <td>Spain</td>\n",
       "      <td>Female</td>\n",
       "      <td>40</td>\n",
       "      <td>6</td>\n",
       "      <td>0.00</td>\n",
       "      <td>2</td>\n",
       "      <td>1</td>\n",
       "      <td>1</td>\n",
       "      <td>181610.60</td>\n",
       "      <td>0</td>\n",
       "    </tr>\n",
       "    <tr>\n",
       "      <th>4</th>\n",
       "      <td>15810167</td>\n",
       "      <td>Scott</td>\n",
       "      <td>657</td>\n",
       "      <td>Spain</td>\n",
       "      <td>Male</td>\n",
       "      <td>75</td>\n",
       "      <td>7</td>\n",
       "      <td>126273.95</td>\n",
       "      <td>1</td>\n",
       "      <td>0</td>\n",
       "      <td>1</td>\n",
       "      <td>91673.60</td>\n",
       "      <td>0</td>\n",
       "    </tr>\n",
       "  </tbody>\n",
       "</table>\n",
       "</div>"
      ],
      "text/plain": [
       "   CustomerId           Surname  CreditScore Geography  Gender  Age  Tenure  \\\n",
       "0    15647572            Greece          504     Spain    Male   34       0   \n",
       "1    15797692           Volkova          659    France  Female   33       7   \n",
       "2    15713559  Onyemauchechukwu          473   Germany  Female   32       5   \n",
       "3    15595067            Zhirov          637     Spain  Female   40       6   \n",
       "4    15810167             Scott          657     Spain    Male   75       7   \n",
       "\n",
       "     Balance  NumOfProducts  HasCrCard  IsActiveMember  EstimatedSalary  \\\n",
       "0   54980.81              1          1               1        136909.88   \n",
       "1   89939.62              1          1               0        136540.09   \n",
       "2  146602.25              2          1               1         72946.95   \n",
       "3       0.00              2          1               1        181610.60   \n",
       "4  126273.95              1          0               1         91673.60   \n",
       "\n",
       "   Exited  \n",
       "0       0  \n",
       "1       0  \n",
       "2       0  \n",
       "3       0  \n",
       "4       0  "
      ]
     },
     "execution_count": 52,
     "metadata": {},
     "output_type": "execute_result"
    }
   ],
   "source": [
    "A.head()"
   ]
  },
  {
   "cell_type": "code",
   "execution_count": 56,
   "id": "4d1f5898-2a45-412f-9cb9-727be48a9ab6",
   "metadata": {},
   "outputs": [],
   "source": [
    "logger.info(f'Average credit score of {A[[\"CreditScore\"]].mean().iloc[0,]:.2f}')"
   ]
  },
  {
   "cell_type": "markdown",
   "id": "438db6fa-ce7b-4997-98a5-0a37fda21f42",
   "metadata": {},
   "source": [
    "### Q-9\n",
    "* How many different countries are listed in `week-01/datasts/A.csv`?"
   ]
  },
  {
   "cell_type": "code",
   "execution_count": 61,
   "id": "ffb8122e-1d52-470c-a2c4-088a53bc75ff",
   "metadata": {},
   "outputs": [
    {
     "data": {
      "text/plain": [
       "array(['Spain', 'France', 'Germany'], dtype=object)"
      ]
     },
     "execution_count": 61,
     "metadata": {},
     "output_type": "execute_result"
    }
   ],
   "source": [
    "A['Geography'].unique()"
   ]
  },
  {
   "cell_type": "code",
   "execution_count": 63,
   "id": "1eda4a21-023a-4de1-ab1d-707820861499",
   "metadata": {},
   "outputs": [],
   "source": [
    "logger.info(f'num of different countries in A is: {A[\"Geography\"].nunique()}')"
   ]
  },
  {
   "cell_type": "markdown",
   "id": "577520b9-645d-4f85-b332-7580245c83fd",
   "metadata": {},
   "source": [
    "### Q-10\n",
    "* Please briefly describe each of the 3 datasets (i.e., what the datasets are about)"
   ]
  },
  {
   "cell_type": "markdown",
   "id": "d209c112-53c4-4478-9f7b-a1351fd46502",
   "metadata": {},
   "source": [
    "* **A dataset**\n",
    "* Bank Customer Churn Prediction data.\n",
    "* Source: [Kaggle](https://www.kaggle.com/datasets/gauravtopre/bank-customer-churn-dataset)\n",
    "\n",
    "\n",
    "* **B dataset**\n",
    "* Monthly precipation values (normals) data from ~9000 weather stations from National Centers for Environmental Information between 1981-2010.\n",
    "* source [mly-prcp-filled.txt](https://www.ncei.noaa.gov/pub/data/normals/1981-2010/source-datasets/mly-prcp-filled.txt)\n",
    "\n",
    "*  **C dataset**\n",
    "*  dataset about 80 cereals and their nutrition facts\n",
    "*  Source [80-cereals](https://www.kaggle.com/datasets/crawford/80-cereals)"
   ]
  },
  {
   "cell_type": "markdown",
   "id": "f0f7b179-cb56-40f3-bc1a-68c5673c4ffe",
   "metadata": {},
   "source": [
    "### Q-11\n",
    "* Care to explore more of the datasets?"
   ]
  },
  {
   "cell_type": "code",
   "execution_count": null,
   "id": "05881627-35be-49d2-a1bf-d3274e0f8a59",
   "metadata": {},
   "outputs": [],
   "source": []
  }
 ],
 "metadata": {
  "kernelspec": {
   "display_name": "Python3.9+Torch2",
   "language": "python",
   "name": "venv-torch2"
  },
  "language_info": {
   "codemirror_mode": {
    "name": "ipython",
    "version": 3
   },
   "file_extension": ".py",
   "mimetype": "text/x-python",
   "name": "python",
   "nbconvert_exporter": "python",
   "pygments_lexer": "ipython3",
   "version": "3.9.18"
  }
 },
 "nbformat": 4,
 "nbformat_minor": 5
}
