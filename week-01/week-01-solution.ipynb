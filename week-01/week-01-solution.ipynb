{
 "cells": [
  {
   "cell_type": "markdown",
   "id": "226134fe",
   "metadata": {},
   "source": [
    "# Dependencies"
   ]
  },
  {
   "cell_type": "code",
   "execution_count": 129,
   "id": "46723967",
   "metadata": {},
   "outputs": [],
   "source": [
    "import os\n",
    "import logging\n",
    "import pandas as pd\n",
    "import matplotlib.pyplot as plt\n",
    "import seaborn as sns"
   ]
  },
  {
   "cell_type": "markdown",
   "id": "65b626f7",
   "metadata": {},
   "source": [
    "## Define the log directory and file"
   ]
  },
  {
   "cell_type": "code",
   "execution_count": 130,
   "id": "127ea0a8-25ad-4a03-924f-fe2b7f55fd94",
   "metadata": {},
   "outputs": [],
   "source": [
    "log_dir = 'logs'\n",
    "log_file = 'week-01-activities.log'"
   ]
  },
  {
   "cell_type": "markdown",
   "id": "7755ee8c",
   "metadata": {},
   "source": [
    "## Create the logs directory if it doesn't exist"
   ]
  },
  {
   "cell_type": "code",
   "execution_count": 131,
   "id": "7b2bd9c5",
   "metadata": {},
   "outputs": [],
   "source": [
    "if not os.path.exists(log_dir):\n",
    "    os.makedirs(log_dir)"
   ]
  },
  {
   "cell_type": "markdown",
   "id": "a3ef92d8",
   "metadata": {},
   "source": [
    "## Logging configuration"
   ]
  },
  {
   "cell_type": "code",
   "execution_count": 132,
   "id": "55223c70",
   "metadata": {},
   "outputs": [],
   "source": [
    "logging.basicConfig(\n",
    "    level=logging.DEBUG,\n",
    "    format='%(levelname)-6s | %(asctime)s | %(message)s',\n",
    "    filename=os.path.join(log_dir, log_file),\n",
    "    filemode='w',\n",
    ")\n",
    "\n",
    "logger = logging.getLogger()"
   ]
  },
  {
   "cell_type": "markdown",
   "id": "3192b43a-07d4-4936-9dec-88b47881f41a",
   "metadata": {},
   "source": [
    "# Q-3\n"
   ]
  },
  {
   "cell_type": "markdown",
   "id": "cf9c72d5",
   "metadata": {},
   "source": [
    "* How many rows are in dataset: `week-01/datasets/A.csv`? How about in `week-01/datasets/B.txt` and in `week-01/datasets/C.csv`?"
   ]
  },
  {
   "cell_type": "markdown",
   "id": "6104f12b",
   "metadata": {},
   "source": [
    "### File paths (relative to the current working directory)"
   ]
  },
  {
   "cell_type": "code",
   "execution_count": 133,
   "id": "63bdfc72",
   "metadata": {},
   "outputs": [],
   "source": [
    "# Use an absolute path if necessary\n",
    "file_A = r'c:\\Users\\Christian\\OneDrive - The University of Colorado Denver\\Current Classes\\CSCI_4930_H01_ML\\006_Activities\\drb-fall24-ml\\week-01\\datasets\\A.csv'\n",
    "\n",
    "file_B = r'c:\\Users\\Christian\\OneDrive - The University of Colorado Denver\\Current Classes\\CSCI_4930_H01_ML\\006_Activities\\drb-fall24-ml\\week-01\\datasets\\B.txt'\n",
    "file_C = r'c:\\Users\\Christian\\OneDrive - The University of Colorado Denver\\Current Classes\\CSCI_4930_H01_ML\\006_Activities\\drb-fall24-ml\\week-01\\datasets\\C.csv'\n",
    "file_D = r'c:\\Users\\Christian\\OneDrive - The University of Colorado Denver\\Current Classes\\CSCI_4930_H01_ML\\006_Activities\\drb-fall24-ml\\week-01\\datasets\\D.txt'"
   ]
  },
  {
   "cell_type": "markdown",
   "id": "ec1bc060",
   "metadata": {},
   "source": [
    "## Load datasets"
   ]
  },
  {
   "cell_type": "code",
   "execution_count": 134,
   "id": "40a0c4a4",
   "metadata": {},
   "outputs": [],
   "source": [
    "df_A = pd.read_csv(file_A)\n",
    "df_B = pd.read_csv(file_B, delimiter='\\s+')  # Assuming B.txt is tab-delimited\n",
    "df_C = pd.read_csv(file_C, delimiter=';', engine='python', on_bad_lines='skip')  # Skipping bad lines\n",
    "df_D = pd.read_csv(file_D, delimiter='\\s+', header=None)  # Assuming D.txt is tab-delimited"
   ]
  },
  {
   "cell_type": "markdown",
   "id": "86227669",
   "metadata": {},
   "source": [
    "## Get the number of rows"
   ]
  },
  {
   "cell_type": "code",
   "execution_count": 135,
   "id": "e5dcde88",
   "metadata": {},
   "outputs": [],
   "source": [
    "rows_A = df_A.shape[0]\n",
    "rows_B = df_B.shape[0]\n",
    "rows_C = df_C.shape[0]"
   ]
  },
  {
   "cell_type": "markdown",
   "id": "df4f1760",
   "metadata": {},
   "source": [
    "## Print the number of rows"
   ]
  },
  {
   "cell_type": "code",
   "execution_count": 136,
   "id": "d588897d",
   "metadata": {},
   "outputs": [
    {
     "name": "stdout",
     "output_type": "stream",
     "text": [
      "Number of rows in A.csv: 9000\n",
      "Number of rows in B.txt: 232042\n",
      "Number of rows in C.csv: 78\n"
     ]
    }
   ],
   "source": [
    "print(f\"Number of rows in A.csv: {rows_A}\")\n",
    "print(f\"Number of rows in B.txt: {rows_B}\")\n",
    "print(f\"Number of rows in C.csv: {rows_C}\")"
   ]
  },
  {
   "cell_type": "markdown",
   "id": "62840448",
   "metadata": {},
   "source": [
    "## Class answer"
   ]
  },
  {
   "cell_type": "code",
   "execution_count": 137,
   "id": "d2e734b7-f7dd-4b95-b662-b96a66007209",
   "metadata": {},
   "outputs": [],
   "source": [
    "with open(file_A) as f:\n",
    "    counter = 0\n",
    "    for line in f:\n",
    "        counter += 1\n",
    "    logger.info(f'num lines of A is {counter}')"
   ]
  },
  {
   "cell_type": "code",
   "execution_count": 138,
   "id": "a0f34ee1-dc77-41d6-bac7-f866b294704a",
   "metadata": {},
   "outputs": [],
   "source": [
    "with open(file_B) as f:\n",
    "    counter = 0\n",
    "    for line in f:\n",
    "        counter += 1\n",
    "    logger.info(f'num lines of B is {counter}')"
   ]
  },
  {
   "cell_type": "code",
   "execution_count": 139,
   "id": "816820d6-5739-434e-bffe-1d4523ea2b22",
   "metadata": {},
   "outputs": [],
   "source": [
    "with open(file_C,'r') as f:\n",
    "    counter = 0\n",
    "    for line in f:\n",
    "        counter += 1\n",
    "    logger.info(f'num lines of C is {counter}')"
   ]
  },
  {
   "cell_type": "code",
   "execution_count": 140,
   "id": "3e910c5b-2551-4cbb-9fb4-3802a57ebf02",
   "metadata": {},
   "outputs": [],
   "source": [
    "#a better ~ time-efficient way\n",
    "with open(file_A,'r') as f:\n",
    "    logger.info(f'num lines of A is {sum([1 for _ in f])}')\n",
    "    "
   ]
  },
  {
   "cell_type": "markdown",
   "id": "da92ec83-f30c-4c32-b1c5-e829391d0f6c",
   "metadata": {},
   "source": [
    "# Q-4"
   ]
  },
  {
   "cell_type": "markdown",
   "id": "26711040",
   "metadata": {},
   "source": [
    "* How many samples are in dataset: `week-01/datasets/A.csv`? How about in `week-01/datasets/B.txt` and in `week-01/datasets/C.csv`?\n"
   ]
  },
  {
   "cell_type": "markdown",
   "id": "551df459",
   "metadata": {},
   "source": [
    "## Research Answer\n"
   ]
  },
  {
   "cell_type": "markdown",
   "id": "96be1b81",
   "metadata": {},
   "source": [
    "### Get the number of rows (samples)"
   ]
  },
  {
   "cell_type": "code",
   "execution_count": 141,
   "id": "3d3f3850",
   "metadata": {},
   "outputs": [],
   "source": [
    "rows_A = df_A.shape[0]\n",
    "rows_B = df_B.shape[0]\n",
    "rows_C = df_C.shape[0]"
   ]
  },
  {
   "cell_type": "markdown",
   "id": "f0dd10ea",
   "metadata": {},
   "source": [
    "### Print the number of samples (rows)"
   ]
  },
  {
   "cell_type": "code",
   "execution_count": 142,
   "id": "dcb0e869",
   "metadata": {},
   "outputs": [
    {
     "name": "stdout",
     "output_type": "stream",
     "text": [
      "Number of rows/samples in A.csv: 9000\n",
      "Number of rows/samples in B.txt: 232042\n",
      "Number of rows/samples in C.csv: 78\n"
     ]
    }
   ],
   "source": [
    "print(f\"Number of rows/samples in A.csv: {rows_A}\")\n",
    "print(f\"Number of rows/samples in B.txt: {rows_B}\")\n",
    "print(f\"Number of rows/samples in C.csv: {rows_C}\")"
   ]
  },
  {
   "cell_type": "markdown",
   "id": "d4ba5b7d",
   "metadata": {},
   "source": [
    "## Class Answers"
   ]
  },
  {
   "cell_type": "code",
   "execution_count": 143,
   "id": "2f50580b-c0a4-485a-9f4f-ef6c80dd5600",
   "metadata": {},
   "outputs": [],
   "source": [
    "A = pd.read_csv(file_A,\n",
    "                     sep=',', #default is comma (,)\n",
    "                     header=0, #default is `infer` ~ header=0th row\n",
    "                    )"
   ]
  },
  {
   "cell_type": "code",
   "execution_count": 144,
   "id": "1ad3db4d-4e69-46b5-a72d-33439d2d61f8",
   "metadata": {},
   "outputs": [
    {
     "data": {
      "text/html": [
       "<div>\n",
       "<style scoped>\n",
       "    .dataframe tbody tr th:only-of-type {\n",
       "        vertical-align: middle;\n",
       "    }\n",
       "\n",
       "    .dataframe tbody tr th {\n",
       "        vertical-align: top;\n",
       "    }\n",
       "\n",
       "    .dataframe thead th {\n",
       "        text-align: right;\n",
       "    }\n",
       "</style>\n",
       "<table border=\"1\" class=\"dataframe\">\n",
       "  <thead>\n",
       "    <tr style=\"text-align: right;\">\n",
       "      <th></th>\n",
       "      <th>CustomerId</th>\n",
       "      <th>Surname</th>\n",
       "      <th>CreditScore</th>\n",
       "      <th>Geography</th>\n",
       "      <th>Gender</th>\n",
       "      <th>Age</th>\n",
       "      <th>Tenure</th>\n",
       "      <th>Balance</th>\n",
       "      <th>NumOfProducts</th>\n",
       "      <th>HasCrCard</th>\n",
       "      <th>IsActiveMember</th>\n",
       "      <th>EstimatedSalary</th>\n",
       "      <th>Exited</th>\n",
       "    </tr>\n",
       "  </thead>\n",
       "  <tbody>\n",
       "    <tr>\n",
       "      <th>0</th>\n",
       "      <td>15647572</td>\n",
       "      <td>Greece</td>\n",
       "      <td>504</td>\n",
       "      <td>Spain</td>\n",
       "      <td>Male</td>\n",
       "      <td>34</td>\n",
       "      <td>0</td>\n",
       "      <td>54980.81</td>\n",
       "      <td>1</td>\n",
       "      <td>1</td>\n",
       "      <td>1</td>\n",
       "      <td>136909.88</td>\n",
       "      <td>0</td>\n",
       "    </tr>\n",
       "  </tbody>\n",
       "</table>\n",
       "</div>"
      ],
      "text/plain": [
       "   CustomerId Surname  CreditScore Geography Gender  Age  Tenure   Balance  \\\n",
       "0    15647572  Greece          504     Spain   Male   34       0  54980.81   \n",
       "\n",
       "   NumOfProducts  HasCrCard  IsActiveMember  EstimatedSalary  Exited  \n",
       "0              1          1               1        136909.88       0  "
      ]
     },
     "execution_count": 144,
     "metadata": {},
     "output_type": "execute_result"
    }
   ],
   "source": [
    "A.head(n=1)"
   ]
  },
  {
   "cell_type": "code",
   "execution_count": 145,
   "id": "05b060c1-1ea3-4c0f-b434-3ca4bc6a51e4",
   "metadata": {},
   "outputs": [
    {
     "data": {
      "text/plain": [
       "Index(['CustomerId', 'Surname', 'CreditScore', 'Geography', 'Gender', 'Age',\n",
       "       'Tenure', 'Balance', 'NumOfProducts', 'HasCrCard', 'IsActiveMember',\n",
       "       'EstimatedSalary', 'Exited'],\n",
       "      dtype='object')"
      ]
     },
     "execution_count": 145,
     "metadata": {},
     "output_type": "execute_result"
    }
   ],
   "source": [
    "A.columns"
   ]
  },
  {
   "cell_type": "code",
   "execution_count": 146,
   "id": "10eb63c1-3ccc-456f-8380-32de3f1a80cf",
   "metadata": {},
   "outputs": [
    {
     "data": {
      "text/plain": [
       "(9000, 13)"
      ]
     },
     "execution_count": 146,
     "metadata": {},
     "output_type": "execute_result"
    }
   ],
   "source": [
    "A.shape"
   ]
  },
  {
   "cell_type": "code",
   "execution_count": 147,
   "id": "6eae6c98-365b-4020-9c4d-0e6602e0bd36",
   "metadata": {},
   "outputs": [],
   "source": [
    "logger.info(f'num rows of A is {A.shape[0]}')\n"
   ]
  },
  {
   "cell_type": "code",
   "execution_count": 148,
   "id": "7137ac9b-c923-4919-91f8-251632d574ec",
   "metadata": {},
   "outputs": [],
   "source": [
    "B = pd.read_csv(file_B,\n",
    "                header=None, #no header row present\n",
    "                sep='\\s+',\n",
    "               )"
   ]
  },
  {
   "cell_type": "code",
   "execution_count": 149,
   "id": "cf9c0d95-0887-4292-ab99-5f265ceb048d",
   "metadata": {},
   "outputs": [
    {
     "data": {
      "text/html": [
       "<div>\n",
       "<style scoped>\n",
       "    .dataframe tbody tr th:only-of-type {\n",
       "        vertical-align: middle;\n",
       "    }\n",
       "\n",
       "    .dataframe tbody tr th {\n",
       "        vertical-align: top;\n",
       "    }\n",
       "\n",
       "    .dataframe thead th {\n",
       "        text-align: right;\n",
       "    }\n",
       "</style>\n",
       "<table border=\"1\" class=\"dataframe\">\n",
       "  <thead>\n",
       "    <tr style=\"text-align: right;\">\n",
       "      <th></th>\n",
       "      <th>0</th>\n",
       "      <th>1</th>\n",
       "      <th>2</th>\n",
       "      <th>3</th>\n",
       "      <th>4</th>\n",
       "      <th>5</th>\n",
       "      <th>6</th>\n",
       "      <th>7</th>\n",
       "      <th>8</th>\n",
       "      <th>9</th>\n",
       "      <th>10</th>\n",
       "      <th>11</th>\n",
       "      <th>12</th>\n",
       "      <th>13</th>\n",
       "    </tr>\n",
       "  </thead>\n",
       "  <tbody>\n",
       "    <tr>\n",
       "      <th>0</th>\n",
       "      <td>AQC00914000</td>\n",
       "      <td>1981</td>\n",
       "      <td>4279</td>\n",
       "      <td>3745</td>\n",
       "      <td>10762</td>\n",
       "      <td>6067</td>\n",
       "      <td>4096</td>\n",
       "      <td>3606</td>\n",
       "      <td>6203</td>\n",
       "      <td>5292</td>\n",
       "      <td>3092</td>\n",
       "      <td>6866</td>\n",
       "      <td>7163</td>\n",
       "      <td>7866</td>\n",
       "    </tr>\n",
       "  </tbody>\n",
       "</table>\n",
       "</div>"
      ],
      "text/plain": [
       "            0     1     2     3      4     5     6     7     8     9     10  \\\n",
       "0  AQC00914000  1981  4279  3745  10762  6067  4096  3606  6203  5292  3092   \n",
       "\n",
       "     11    12    13  \n",
       "0  6866  7163  7866  "
      ]
     },
     "execution_count": 149,
     "metadata": {},
     "output_type": "execute_result"
    }
   ],
   "source": [
    "B.head(n=1)"
   ]
  },
  {
   "cell_type": "code",
   "execution_count": 150,
   "id": "b7f850f0-906e-41a1-8da0-632fbc4e96c5",
   "metadata": {},
   "outputs": [
    {
     "data": {
      "text/plain": [
       "(232043, 14)"
      ]
     },
     "execution_count": 150,
     "metadata": {},
     "output_type": "execute_result"
    }
   ],
   "source": [
    "B.shape"
   ]
  },
  {
   "cell_type": "code",
   "execution_count": 151,
   "id": "50df96e8-57b2-4c4c-a130-53da3d611042",
   "metadata": {},
   "outputs": [],
   "source": [
    "logger.info(f'num rows of B is {B.shape[0]}')"
   ]
  },
  {
   "cell_type": "code",
   "execution_count": 152,
   "id": "abce0750-edf6-4265-93d1-ab1de0fdf764",
   "metadata": {},
   "outputs": [],
   "source": [
    "C = pd.read_csv(file_C,\n",
    "                header=0, #first row is header row\n",
    "                sep=';',\n",
    "                skiprows=[1] #skip the second row\n",
    "                )"
   ]
  },
  {
   "cell_type": "code",
   "execution_count": 153,
   "id": "0e5dd808-517e-42ea-909d-3730d1bca8a6",
   "metadata": {},
   "outputs": [
    {
     "data": {
      "text/html": [
       "<div>\n",
       "<style scoped>\n",
       "    .dataframe tbody tr th:only-of-type {\n",
       "        vertical-align: middle;\n",
       "    }\n",
       "\n",
       "    .dataframe tbody tr th {\n",
       "        vertical-align: top;\n",
       "    }\n",
       "\n",
       "    .dataframe thead th {\n",
       "        text-align: right;\n",
       "    }\n",
       "</style>\n",
       "<table border=\"1\" class=\"dataframe\">\n",
       "  <thead>\n",
       "    <tr style=\"text-align: right;\">\n",
       "      <th></th>\n",
       "      <th>name</th>\n",
       "      <th>mfr</th>\n",
       "      <th>type</th>\n",
       "      <th>calories</th>\n",
       "      <th>protein</th>\n",
       "      <th>fat</th>\n",
       "      <th>sodium</th>\n",
       "      <th>fiber</th>\n",
       "      <th>carbo</th>\n",
       "      <th>sugars</th>\n",
       "      <th>potass</th>\n",
       "      <th>vitamins</th>\n",
       "      <th>shelf</th>\n",
       "      <th>weight</th>\n",
       "      <th>cups</th>\n",
       "      <th>rating</th>\n",
       "    </tr>\n",
       "  </thead>\n",
       "  <tbody>\n",
       "    <tr>\n",
       "      <th>0</th>\n",
       "      <td>100% Bran</td>\n",
       "      <td>N</td>\n",
       "      <td>C</td>\n",
       "      <td>70</td>\n",
       "      <td>4</td>\n",
       "      <td>1</td>\n",
       "      <td>130</td>\n",
       "      <td>10.0</td>\n",
       "      <td>5.0</td>\n",
       "      <td>6</td>\n",
       "      <td>280</td>\n",
       "      <td>25</td>\n",
       "      <td>3</td>\n",
       "      <td>1.0</td>\n",
       "      <td>0.33</td>\n",
       "      <td>68.402973</td>\n",
       "    </tr>\n",
       "    <tr>\n",
       "      <th>1</th>\n",
       "      <td>100% Natural Bran</td>\n",
       "      <td>Q</td>\n",
       "      <td>C</td>\n",
       "      <td>120</td>\n",
       "      <td>3</td>\n",
       "      <td>5</td>\n",
       "      <td>15</td>\n",
       "      <td>2.0</td>\n",
       "      <td>8.0</td>\n",
       "      <td>8</td>\n",
       "      <td>135</td>\n",
       "      <td>0</td>\n",
       "      <td>3</td>\n",
       "      <td>1.0</td>\n",
       "      <td>1.00</td>\n",
       "      <td>33.983679</td>\n",
       "    </tr>\n",
       "    <tr>\n",
       "      <th>2</th>\n",
       "      <td>All-Bran</td>\n",
       "      <td>K</td>\n",
       "      <td>C</td>\n",
       "      <td>70</td>\n",
       "      <td>4</td>\n",
       "      <td>1</td>\n",
       "      <td>260</td>\n",
       "      <td>9.0</td>\n",
       "      <td>7.0</td>\n",
       "      <td>5</td>\n",
       "      <td>320</td>\n",
       "      <td>25</td>\n",
       "      <td>3</td>\n",
       "      <td>1.0</td>\n",
       "      <td>0.33</td>\n",
       "      <td>59.425505</td>\n",
       "    </tr>\n",
       "    <tr>\n",
       "      <th>3</th>\n",
       "      <td>All-Bran with Extra Fiber</td>\n",
       "      <td>K</td>\n",
       "      <td>C</td>\n",
       "      <td>50</td>\n",
       "      <td>4</td>\n",
       "      <td>0</td>\n",
       "      <td>140</td>\n",
       "      <td>14.0</td>\n",
       "      <td>8.0</td>\n",
       "      <td>0</td>\n",
       "      <td>330</td>\n",
       "      <td>25</td>\n",
       "      <td>3</td>\n",
       "      <td>1.0</td>\n",
       "      <td>0.50</td>\n",
       "      <td>93.704912</td>\n",
       "    </tr>\n",
       "    <tr>\n",
       "      <th>4</th>\n",
       "      <td>Almond Delight</td>\n",
       "      <td>R</td>\n",
       "      <td>C</td>\n",
       "      <td>110</td>\n",
       "      <td>2</td>\n",
       "      <td>2</td>\n",
       "      <td>200</td>\n",
       "      <td>1.0</td>\n",
       "      <td>14.0</td>\n",
       "      <td>8</td>\n",
       "      <td>-1</td>\n",
       "      <td>25</td>\n",
       "      <td>3</td>\n",
       "      <td>1.0</td>\n",
       "      <td>0.75</td>\n",
       "      <td>34.384843</td>\n",
       "    </tr>\n",
       "  </tbody>\n",
       "</table>\n",
       "</div>"
      ],
      "text/plain": [
       "                        name mfr type  calories  protein  fat  sodium  fiber  \\\n",
       "0                  100% Bran   N    C        70        4    1     130   10.0   \n",
       "1          100% Natural Bran   Q    C       120        3    5      15    2.0   \n",
       "2                   All-Bran   K    C        70        4    1     260    9.0   \n",
       "3  All-Bran with Extra Fiber   K    C        50        4    0     140   14.0   \n",
       "4             Almond Delight   R    C       110        2    2     200    1.0   \n",
       "\n",
       "   carbo  sugars  potass  vitamins  shelf  weight  cups     rating  \n",
       "0    5.0       6     280        25      3     1.0  0.33  68.402973  \n",
       "1    8.0       8     135         0      3     1.0  1.00  33.983679  \n",
       "2    7.0       5     320        25      3     1.0  0.33  59.425505  \n",
       "3    8.0       0     330        25      3     1.0  0.50  93.704912  \n",
       "4   14.0       8      -1        25      3     1.0  0.75  34.384843  "
      ]
     },
     "execution_count": 153,
     "metadata": {},
     "output_type": "execute_result"
    }
   ],
   "source": [
    "C.head(n=5)"
   ]
  },
  {
   "cell_type": "code",
   "execution_count": 154,
   "id": "1102b229-9d62-4542-bbdd-07d3987ac47c",
   "metadata": {},
   "outputs": [],
   "source": [
    "logger.info(f'num rows of C is {C.shape[0]}')"
   ]
  },
  {
   "cell_type": "markdown",
   "id": "beb266ab-dac9-4e2a-84e9-10ffa33fb5cd",
   "metadata": {},
   "source": [
    "# Q-5\n"
   ]
  },
  {
   "cell_type": "markdown",
   "id": "de27732a",
   "metadata": {},
   "source": [
    "* How many columns are there in each of the 3 datasets?"
   ]
  },
  {
   "cell_type": "markdown",
   "id": "0c18a32a",
   "metadata": {},
   "source": [
    "## Research Answers"
   ]
  },
  {
   "cell_type": "markdown",
   "id": "4e233988",
   "metadata": {},
   "source": [
    "### Get the number of rows (samples) and columns"
   ]
  },
  {
   "cell_type": "code",
   "execution_count": 155,
   "id": "2211fec7",
   "metadata": {},
   "outputs": [],
   "source": [
    "rows_A, cols_A = df_A.shape\n",
    "rows_B, cols_B = df_B.shape\n",
    "rows_C, cols_C = df_C.shape"
   ]
  },
  {
   "cell_type": "markdown",
   "id": "5e0ffe11",
   "metadata": {},
   "source": [
    "### Print the number of samples (rows) and columns"
   ]
  },
  {
   "cell_type": "code",
   "execution_count": 156,
   "id": "b9c9215b",
   "metadata": {},
   "outputs": [
    {
     "name": "stdout",
     "output_type": "stream",
     "text": [
      "A.csv has 9000 samples and 13 columns.\n",
      "B.txt has 232042 samples and 14 columns.\n",
      "C.csv has 78 samples and 16 columns.\n"
     ]
    }
   ],
   "source": [
    "print(f\"A.csv has {rows_A} samples and {cols_A} columns.\")\n",
    "print(f\"B.txt has {rows_B} samples and {cols_B} columns.\")\n",
    "print(f\"C.csv has {rows_C} samples and {cols_C} columns.\")"
   ]
  },
  {
   "cell_type": "markdown",
   "id": "1ceb3fd7",
   "metadata": {},
   "source": [
    "### Preview the first few rows of B.txt and C.csv"
   ]
  },
  {
   "cell_type": "code",
   "execution_count": 157,
   "id": "44e32751",
   "metadata": {},
   "outputs": [
    {
     "name": "stdout",
     "output_type": "stream",
     "text": [
      "   AQC00914000  1981  4279  3745  10762   6067   4096   3606   6203   5292  \\\n",
      "0  AQC00914000  1982  5039  9643   3211   2016   3355   2827   3199   9356   \n",
      "1  AQC00914000  1983  3351  2971   3044   2642   1644   1717   1020   1788   \n",
      "2  AQC00914000  1984  3368  3538   8187   2715   2916   3288   1246   3391   \n",
      "3  AQC00914000  1985  5202  3078   3279   8414   2884   4787   3447   3193   \n",
      "4  AQC00914000  1986  8573  4212  2799F  7095F  5012F  3135F  3878F  2989F   \n",
      "\n",
      "    3092   6866   7163   7866  \n",
      "0   4150   6418   3965   1595  \n",
      "1   3433   6801   2531   7242  \n",
      "2   2932   6578   4787   9787  \n",
      "3   5296   5410   3950   1651  \n",
      "4  6368F  4740F  4312F  8310F  \n",
      "                        name          mfr         type calories protein  fat  \\\n",
      "0                     String  Categorical  Categorical      Int     Int  Int   \n",
      "1                  100% Bran            N            C       70       4    1   \n",
      "2          100% Natural Bran            Q            C      120       3    5   \n",
      "3                   All-Bran            K            C       70       4    1   \n",
      "4  All-Bran with Extra Fiber            K            C       50       4    0   \n",
      "\n",
      "  sodium  fiber  carbo sugars potass vitamins shelf weight   cups     rating  \n",
      "0    Int  Float  Float    Int    Int      Int   Int  Float  Float      Float  \n",
      "1    130     10      5      6    280       25     3      1   0.33  68.402973  \n",
      "2     15      2      8      8    135        0     3      1      1  33.983679  \n",
      "3    260      9      7      5    320       25     3      1   0.33  59.425505  \n",
      "4    140     14      8      0    330       25     3      1    0.5  93.704912  \n"
     ]
    }
   ],
   "source": [
    "print(df_B.head())  # For B.txt\n",
    "print(df_C.head())  # For C.csv"
   ]
  },
  {
   "cell_type": "markdown",
   "id": "749bb1bb",
   "metadata": {},
   "source": [
    "## Class Answers"
   ]
  },
  {
   "cell_type": "code",
   "execution_count": 158,
   "id": "f3d5e1a0-e455-4c23-80a8-4efc69756328",
   "metadata": {},
   "outputs": [],
   "source": [
    "logger.info(f'num of columns in A is {len(A.columns)}')\n",
    "logger.info(f'num of columns in B is {len(B.columns)}')\n",
    "logger.info(f'num of columns in C is {len(C.columns)}')"
   ]
  },
  {
   "cell_type": "markdown",
   "id": "c72c80c3-a683-404f-80f6-4a9a39060e66",
   "metadata": {},
   "source": [
    "# Q-6\n"
   ]
  },
  {
   "cell_type": "markdown",
   "id": "7b5e85e5",
   "metadata": {},
   "source": [
    "* Compute the mean of the last (i.e., rightmost) column of `week-01/datasets/C.csv`?"
   ]
  },
  {
   "cell_type": "markdown",
   "id": "31d3c2ba",
   "metadata": {},
   "source": [
    "## Research Answer"
   ]
  },
  {
   "cell_type": "markdown",
   "id": "eda83089",
   "metadata": {},
   "source": [
    "### Inspect the last column"
   ]
  },
  {
   "cell_type": "code",
   "execution_count": 159,
   "id": "a37450a7",
   "metadata": {},
   "outputs": [
    {
     "name": "stdout",
     "output_type": "stream",
     "text": [
      "0         Float\n",
      "1     68.402973\n",
      "2     33.983679\n",
      "3     59.425505\n",
      "4     93.704912\n",
      "        ...    \n",
      "73    39.106174\n",
      "74    27.753301\n",
      "75    49.787445\n",
      "76    51.592193\n",
      "77    36.187559\n",
      "Name: rating, Length: 78, dtype: object\n"
     ]
    }
   ],
   "source": [
    "print(df_C.iloc[:, -1])"
   ]
  },
  {
   "cell_type": "markdown",
   "id": "5959082a",
   "metadata": {},
   "source": [
    "### Convert the last column to numeric, coercing any errors to NaN"
   ]
  },
  {
   "cell_type": "code",
   "execution_count": 160,
   "id": "e960193a",
   "metadata": {},
   "outputs": [],
   "source": [
    "\n",
    "df_C.iloc[:, -1] = pd.to_numeric(df_C.iloc[:, -1], errors='coerce')"
   ]
  },
  {
   "cell_type": "markdown",
   "id": "bb2a24c0",
   "metadata": {},
   "source": [
    "### Compute the mean of the last column, skipping NaN values"
   ]
  },
  {
   "cell_type": "code",
   "execution_count": 161,
   "id": "63350d03",
   "metadata": {},
   "outputs": [],
   "source": [
    "\n",
    "mean_last_column = df_C.iloc[:, -1].mean()"
   ]
  },
  {
   "cell_type": "markdown",
   "id": "e0b1a0ec",
   "metadata": {},
   "source": [
    "### Print the result"
   ]
  },
  {
   "cell_type": "code",
   "execution_count": 162,
   "id": "7326121d",
   "metadata": {},
   "outputs": [
    {
     "name": "stdout",
     "output_type": "stream",
     "text": [
      "The mean of the last column in C.csv is: 42.66570498701299\n"
     ]
    }
   ],
   "source": [
    "\n",
    "print(f\"The mean of the last column in C.csv is: {mean_last_column}\")"
   ]
  },
  {
   "cell_type": "markdown",
   "id": "c1503871",
   "metadata": {},
   "source": [
    "## Class Answer"
   ]
  },
  {
   "cell_type": "code",
   "execution_count": 163,
   "id": "2f8e4129-faa9-4edb-8b7d-e0f20ad62a14",
   "metadata": {},
   "outputs": [],
   "source": [
    "logger.info(f'mean of rightmost column of C is {C[[\"rating\"]].mean().iloc[0,]:.2f}')"
   ]
  },
  {
   "cell_type": "markdown",
   "id": "a6e81129-434f-43cc-84bf-56d6cf92734c",
   "metadata": {},
   "source": [
    "# Q-7\n"
   ]
  },
  {
   "cell_type": "markdown",
   "id": "dbd30158",
   "metadata": {},
   "source": [
    "* Where (i.e, in which sample) the two datasets: `week-01/datasets/B.txt` and `week-01/datasets/D.txt` differ?"
   ]
  },
  {
   "cell_type": "markdown",
   "id": "e8d5989b",
   "metadata": {},
   "source": [
    "## Research Answers"
   ]
  },
  {
   "cell_type": "markdown",
   "id": "f5a1a607",
   "metadata": {},
   "source": [
    "Steps:\n",
    "\n",
    "    Load the two datasets: Read both B.txt and D.txt into DataFrames.\n",
    "    Align the datasets: Ensure both datasets have the same shape (same number of rows and columns).\n",
    "    Compare the datasets: Use pandas to compare the rows and identify where they differ."
   ]
  },
  {
   "cell_type": "markdown",
   "id": "276f13b1",
   "metadata": {},
   "source": [
    "### Ensure both datasets have the same shape"
   ]
  },
  {
   "cell_type": "code",
   "execution_count": 164,
   "id": "e62b5dc3",
   "metadata": {},
   "outputs": [
    {
     "name": "stdout",
     "output_type": "stream",
     "text": [
      "The datasets have different shapes: B has (232042, 14), D has (232043, 14)\n"
     ]
    }
   ],
   "source": [
    "\n",
    "if df_B.shape != df_D.shape:\n",
    "    print(f\"The datasets have different shapes: B has {df_B.shape}, D has {df_D.shape}\")\n",
    "else:\n",
    "    # Compare datasets and find the differences\n",
    "    diff = df_B.compare(df_D)\n",
    "    \n",
    "    if diff.empty:\n",
    "        print(\"The datasets are identical.\")\n",
    "    else:\n",
    "        print(\"Differences found:\")\n",
    "        print(diff)\n"
   ]
  },
  {
   "cell_type": "markdown",
   "id": "c785dab3",
   "metadata": {},
   "source": [
    "## Class Answers"
   ]
  },
  {
   "cell_type": "code",
   "execution_count": 165,
   "id": "08620bf1-cece-406d-90ea-292375febf21",
   "metadata": {},
   "outputs": [
    {
     "ename": "SyntaxError",
     "evalue": "invalid syntax (1325634888.py, line 1)",
     "output_type": "error",
     "traceback": [
      "\u001b[1;36m  Cell \u001b[1;32mIn[165], line 1\u001b[1;36m\u001b[0m\n\u001b[1;33m    diff datasets/B.txt datasets/D.txt\u001b[0m\n\u001b[1;37m         ^\u001b[0m\n\u001b[1;31mSyntaxError\u001b[0m\u001b[1;31m:\u001b[0m invalid syntax\n"
     ]
    }
   ],
   "source": [
    "diff datasets/B.txt datasets/D.txt"
   ]
  },
  {
   "cell_type": "markdown",
   "id": "6c9e4751-6f3b-48f8-be87-4ff54017714b",
   "metadata": {},
   "source": [
    "# Q-8\n"
   ]
  },
  {
   "cell_type": "markdown",
   "id": "0f5d968c",
   "metadata": {},
   "source": [
    "* What is the average credit score among the samples found in `week-01/datasets/A.csv`?"
   ]
  },
  {
   "cell_type": "markdown",
   "id": "74088690",
   "metadata": {},
   "source": [
    "## Research Answers"
   ]
  },
  {
   "cell_type": "markdown",
   "id": "0b6999dd",
   "metadata": {},
   "source": [
    "Here's a step-by-step approach:\n",
    "Steps:\n",
    "\n",
    "    Load the dataset A.csv.\n",
    "    Identify the column that contains the credit score data.\n",
    "    Compute the mean of the credit score column.\n",
    "Explanation:\n",
    "\n",
    "    df_A.columns: This prints the column names so you can identify the correct one for the credit score.\n",
    "    df_A[credit_score_column].mean(): This computes the mean of the values in the credit score column.\n",
    "\n",
    "Adjustments:\n",
    "\n",
    "    Replace 'Credit Score' with the actual column name if it's different.\n",
    "    Ensure that the data in the credit score column is numeric. If it's not, you can convert it using pd.to_numeric()."
   ]
  },
  {
   "cell_type": "markdown",
   "id": "29b3608e",
   "metadata": {},
   "source": [
    "### Check the column names to find the credit score column"
   ]
  },
  {
   "cell_type": "code",
   "execution_count": null,
   "id": "ec0ed38a",
   "metadata": {},
   "outputs": [],
   "source": [
    "print(df_A.columns)"
   ]
  },
  {
   "cell_type": "markdown",
   "id": "d8bd583f",
   "metadata": {},
   "source": [
    "### Assuming the credit score column is named 'Credit Score' (replace with actual name)"
   ]
  },
  {
   "cell_type": "code",
   "execution_count": 106,
   "id": "94b36d38",
   "metadata": {},
   "outputs": [],
   "source": [
    "credit_score_column = 'CreditScore'  # Replace this with the actual column name"
   ]
  },
  {
   "cell_type": "markdown",
   "id": "491fe46f",
   "metadata": {},
   "source": [
    "### Compute the mean of the credit score column"
   ]
  },
  {
   "cell_type": "code",
   "execution_count": 107,
   "id": "1dfa09bb",
   "metadata": {},
   "outputs": [],
   "source": [
    "average_credit_score = df_A[credit_score_column].mean()"
   ]
  },
  {
   "cell_type": "markdown",
   "id": "9f95be37",
   "metadata": {},
   "source": [
    "### Print the result"
   ]
  },
  {
   "cell_type": "code",
   "execution_count": null,
   "id": "0cea0d04",
   "metadata": {},
   "outputs": [],
   "source": [
    "print(f\"The average credit score in A.csv is: {average_credit_score}\")"
   ]
  },
  {
   "cell_type": "markdown",
   "id": "34ad0ef3",
   "metadata": {},
   "source": [
    "## Class Answers"
   ]
  },
  {
   "cell_type": "code",
   "execution_count": null,
   "id": "3bf63c4b-3bcf-4661-85fa-90971a5741b7",
   "metadata": {},
   "outputs": [],
   "source": [
    "A.head()"
   ]
  },
  {
   "cell_type": "code",
   "execution_count": 110,
   "id": "4d1f5898-2a45-412f-9cb9-727be48a9ab6",
   "metadata": {},
   "outputs": [],
   "source": [
    "logger.info(f'Average credit score of {A[[\"CreditScore\"]].mean().iloc[0,]:.2f}')"
   ]
  },
  {
   "cell_type": "markdown",
   "id": "438db6fa-ce7b-4997-98a5-0a37fda21f42",
   "metadata": {},
   "source": [
    "# Q-9\n"
   ]
  },
  {
   "cell_type": "markdown",
   "id": "852940eb",
   "metadata": {},
   "source": [
    "* How many different countries are listed in `week-01/datasts/A.csv`?"
   ]
  },
  {
   "cell_type": "markdown",
   "id": "d1c0c3ed",
   "metadata": {},
   "source": [
    "## Research Answers"
   ]
  },
  {
   "cell_type": "markdown",
   "id": "f2a27d99",
   "metadata": {},
   "source": [
    "### Get the unique countries in the 'Geography' column\n"
   ]
  },
  {
   "cell_type": "code",
   "execution_count": 67,
   "id": "c872d5d7",
   "metadata": {},
   "outputs": [],
   "source": [
    "unique_countries = df_A['Geography'].unique()"
   ]
  },
  {
   "cell_type": "markdown",
   "id": "4d612ad0",
   "metadata": {},
   "source": [
    "### Count the number of unique countries"
   ]
  },
  {
   "cell_type": "code",
   "execution_count": 68,
   "id": "2c582939",
   "metadata": {},
   "outputs": [],
   "source": [
    "num_countries = len(unique_countries)"
   ]
  },
  {
   "cell_type": "markdown",
   "id": "f19e08dd",
   "metadata": {},
   "source": [
    "### Print the result"
   ]
  },
  {
   "cell_type": "code",
   "execution_count": null,
   "id": "40e53360",
   "metadata": {},
   "outputs": [],
   "source": [
    "print(f\"The number of different countries in A.csv is: {num_countries}\")\n",
    "print(f\"The list of countries: {unique_countries}\")"
   ]
  },
  {
   "cell_type": "markdown",
   "id": "7e8eac78",
   "metadata": {},
   "source": [
    "## Class Answers"
   ]
  },
  {
   "cell_type": "code",
   "execution_count": null,
   "id": "ffb8122e-1d52-470c-a2c4-088a53bc75ff",
   "metadata": {},
   "outputs": [],
   "source": [
    "A['Geography'].unique()"
   ]
  },
  {
   "cell_type": "code",
   "execution_count": 112,
   "id": "1eda4a21-023a-4de1-ab1d-707820861499",
   "metadata": {},
   "outputs": [],
   "source": [
    "logger.info(f'num of different countries in A is: {A[\"Geography\"].nunique()}')"
   ]
  },
  {
   "cell_type": "markdown",
   "id": "577520b9-645d-4f85-b332-7580245c83fd",
   "metadata": {},
   "source": [
    "# Q-10\n"
   ]
  },
  {
   "cell_type": "markdown",
   "id": "d209c112-53c4-4478-9f7b-a1351fd46502",
   "metadata": {},
   "source": [
    "* Please briefly describe each of the 3 datasets (i.e., what the datasets are about)\n",
    "* **A dataset**\n",
    "* Bank Customer Churn Prediction data.\n",
    "* Source: [Kaggle](https://www.kaggle.com/datasets/gauravtopre/bank-customer-churn-dataset)\n",
    "\n",
    "\n",
    "* **B dataset**\n",
    "* Monthly precipation values (normals) data from ~9000 weather stations from National Centers for Environmental Information between 1981-2010.\n",
    "* source [mly-prcp-filled.txt](https://www.ncei.noaa.gov/pub/data/normals/1981-2010/source-datasets/mly-prcp-filled.txt)\n",
    "\n",
    "*  **C dataset**\n",
    "*  dataset about 80 cereals and their nutrition facts\n",
    "*  Source [80-cereals](https://www.kaggle.com/datasets/crawford/80-cereals)"
   ]
  },
  {
   "cell_type": "markdown",
   "id": "48f0c02c",
   "metadata": {},
   "source": [
    " Dataset: Bank Customer Churn Prediction\n",
    "\n",
    "    Description: This dataset contains data on customers of a bank and is used for predicting whether a customer will churn (leave the bank). It includes various features such as customer ID, surname, credit score, geography (country), gender, age, tenure (years of being a customer), balance, number of products, whether the customer has a credit card, whether they are an active member, estimated salary, and whether the customer has exited (churned).\n",
    "    Use case: Predictive modeling for customer churn in the banking sector."
   ]
  },
  {
   "cell_type": "markdown",
   "id": "429d7288",
   "metadata": {},
   "source": [
    "B Dataset: Monthly Precipitation Normals (1981-2010)\n",
    "\n",
    "    Description: This dataset contains monthly precipitation values (also referred to as \"normals\") from approximately 9,000 weather stations, as recorded by the National Centers for Environmental Information (NCEI) between the years 1981 and 2010. Each row in the dataset represents a weather station's monthly precipitation data over a 30-year period, and it is primarily used for climatological research and weather pattern analysis.\n",
    "    Use case: Climate data analysis and precipitation trend examination."
   ]
  },
  {
   "cell_type": "markdown",
   "id": "cc17f53a",
   "metadata": {},
   "source": [
    "C Dataset: 80 Cereals Nutrition Facts\n",
    "\n",
    "    Description: This dataset provides information on 80 different cereals, including their nutritional values. It includes features such as cereal name, manufacturer, type, calories, protein, fat, sodium, fiber, carbohydrates, sugars, potassium, vitamins, shelf placement, weight, serving size, and rating. This data is often used for dietary analysis and nutrition-based recommendations.\n",
    "    Use case: Analyzing nutritional information of cereals for health and dietary studies."
   ]
  },
  {
   "cell_type": "markdown",
   "id": "f0f7b179-cb56-40f3-bc1a-68c5673c4ffe",
   "metadata": {},
   "source": [
    "# Q-11\n"
   ]
  },
  {
   "cell_type": "markdown",
   "id": "fd244e88",
   "metadata": {},
   "source": [
    "* Care to explore more of the datasets?"
   ]
  },
  {
   "cell_type": "markdown",
   "id": "73b23ca5",
   "metadata": {},
   "source": [
    "A Dataset: Bank Customer Churn Prediction\n",
    "\n",
    "    Summary Statistics:\n",
    "        Let's explore basic descriptive statistics (mean, median, standard deviation) of important numerical features like CreditScore, Age, Balance, and EstimatedSalary.\n",
    "\n",
    "    Churn Distribution:\n",
    "        Visualize the distribution of churn (i.e., the Exited column) to see how balanced the dataset is between churned and non-churned customers.\n",
    "\n",
    "    Feature Correlations:\n",
    "        Check how different features like CreditScore, Age, and Balance correlate with customer churn.\n",
    "\n",
    "Code Example for A Dataset Exploration:"
   ]
  },
  {
   "cell_type": "markdown",
   "id": "ba01b18e",
   "metadata": {},
   "source": [
    "### Summary statistics of important numerical features"
   ]
  },
  {
   "cell_type": "code",
   "execution_count": null,
   "id": "af4186a1",
   "metadata": {},
   "outputs": [],
   "source": [
    "print(df_A[['CreditScore', 'Age', 'Balance', 'EstimatedSalary']].describe())"
   ]
  },
  {
   "cell_type": "markdown",
   "id": "a7dfb842",
   "metadata": {},
   "source": [
    "\n",
    "### Churn distribution"
   ]
  },
  {
   "cell_type": "code",
   "execution_count": null,
   "id": "4a72396f",
   "metadata": {},
   "outputs": [],
   "source": [
    "churn_counts = df_A['Exited'].value_counts()\n",
    "plt.figure(figsize=(6,4))\n",
    "sns.barplot(x=churn_counts.index, y=churn_counts.values, palette='coolwarm')\n",
    "plt.title('Churn Distribution')\n",
    "plt.xticks([0, 1], ['Non-Churned', 'Churned'])\n",
    "plt.ylabel('Count')\n",
    "plt.show()"
   ]
  },
  {
   "cell_type": "markdown",
   "id": "0716457c",
   "metadata": {},
   "source": [
    "### Correlation between features and churn\n"
   ]
  },
  {
   "cell_type": "code",
   "execution_count": null,
   "id": "b3c381a1",
   "metadata": {},
   "outputs": [],
   "source": [
    "plt.figure(figsize=(10,6))\n",
    "sns.heatmap(df_A[['CreditScore', 'Age', 'Balance', 'EstimatedSalary', 'Exited']].corr(), annot=True, cmap='Blues')\n",
    "plt.title('Feature Correlation with Churn')\n",
    "plt.show()"
   ]
  },
  {
   "cell_type": "markdown",
   "id": "5c915687",
   "metadata": {},
   "source": [
    "B Dataset: Monthly Precipitation Normals (1981-2010)\n",
    "\n",
    "    Basic Statistics:\n",
    "        Calculate the mean, median, and range of precipitation values across weather stations.\n",
    "\n",
    "    Precipitation Trends:\n",
    "        Visualize the trend of precipitation data to see if there are any clear patterns over the years.\n",
    "\n",
    "    Station Analysis:\n",
    "        Identify weather stations with the highest and lowest average monthly precipitation.\n",
    "\n",
    "Code Example for B Dataset Exploration:"
   ]
  },
  {
   "cell_type": "markdown",
   "id": "89bf3bb4",
   "metadata": {},
   "source": [
    "### Check data types to inspect if all columns are numeric"
   ]
  },
  {
   "cell_type": "code",
   "execution_count": null,
   "id": "e069635a",
   "metadata": {},
   "outputs": [],
   "source": [
    "print(df_B.dtypes)"
   ]
  },
  {
   "cell_type": "markdown",
   "id": "88cb7906",
   "metadata": {},
   "source": [
    "### Convert all columns (starting from 2 onwards) to numeric, coercing errors"
   ]
  },
  {
   "cell_type": "code",
   "execution_count": 72,
   "id": "c450569a",
   "metadata": {},
   "outputs": [],
   "source": [
    "\n",
    "df_B.iloc[:, 2:] = df_B.iloc[:, 2:].apply(pd.to_numeric, errors='coerce')"
   ]
  },
  {
   "cell_type": "markdown",
   "id": "ce2b151e",
   "metadata": {},
   "source": [
    "### Check for missing values and data types after conversion"
   ]
  },
  {
   "cell_type": "code",
   "execution_count": null,
   "id": "1e5ebbd6",
   "metadata": {},
   "outputs": [],
   "source": [
    "print(df_B.isnull().sum())\n",
    "print(df_B.dtypes)"
   ]
  },
  {
   "cell_type": "markdown",
   "id": "42c57f3f",
   "metadata": {},
   "source": [
    "### Visualization of the first few stations' monthly precipitation"
   ]
  },
  {
   "cell_type": "code",
   "execution_count": null,
   "id": "2790d30d",
   "metadata": {},
   "outputs": [],
   "source": [
    "df_B.iloc[:, 2:].T.plot(figsize=(12,6), legend=False)\n",
    "plt.title('Precipitation Trends Across Stations (Sample)')\n",
    "plt.ylabel('Precipitation')\n",
    "plt.show()"
   ]
  },
  {
   "cell_type": "markdown",
   "id": "c894c8a0",
   "metadata": {},
   "source": [
    "### Stations with highest and lowest average precipitation"
   ]
  },
  {
   "cell_type": "code",
   "execution_count": null,
   "id": "8cce27e5",
   "metadata": {},
   "outputs": [],
   "source": [
    "\n",
    "df_B['avg_precipitation'] = df_B.iloc[:, 2:].mean(axis=1)\n",
    "max_station = df_B.loc[df_B['avg_precipitation'].idxmax()]\n",
    "min_station = df_B.loc[df_B['avg_precipitation'].idxmin()]\n",
    "print(f\"Station with highest average precipitation: {max_station}\")\n",
    "print(f\"Station with lowest average precipitation: {min_station}\")\n"
   ]
  },
  {
   "cell_type": "markdown",
   "id": "19286f2c",
   "metadata": {},
   "source": [
    "## C Dataset: 80 Cereals Nutrition Facts\n",
    "\n",
    "    Nutritional Analysis:\n",
    "        Explore which cereals have the highest and lowest calorie counts, fiber, and sugar content.\n",
    "\n",
    "    Healthiest Cereals:\n",
    "        Create a health index based on calories, fiber, and sugar, and rank the cereals.\n",
    "\n",
    "    Cereal Manufacturer Analysis:\n",
    "        See which manufacturers produce the cereals with the most nutritious profiles.\n",
    "\n",
    "Code Example for C Dataset Exploration:"
   ]
  },
  {
   "cell_type": "markdown",
   "id": "0276db6c",
   "metadata": {},
   "source": [
    "### Basic statistics of nutritional facts"
   ]
  },
  {
   "cell_type": "code",
   "execution_count": null,
   "id": "5a0bbf64",
   "metadata": {},
   "outputs": [],
   "source": [
    "print(df_C[['calories', 'fiber', 'sugars']].describe())"
   ]
  },
  {
   "cell_type": "markdown",
   "id": "2ecde2b0",
   "metadata": {},
   "source": [
    "### Cereal with highest and lowest calorie counts\n"
   ]
  },
  {
   "cell_type": "code",
   "execution_count": null,
   "id": "22d6df25",
   "metadata": {},
   "outputs": [],
   "source": [
    "print(f\"Cereal with highest calories: {df_C.loc[df_C['calories'].idxmax()]}\")\n",
    "print(f\"Cereal with lowest calories: {df_C.loc[df_C['calories'].idxmin()]}\")"
   ]
  },
  {
   "cell_type": "markdown",
   "id": "1a1a2011",
   "metadata": {},
   "source": [
    "### Create a health index (lower calories, higher fiber, lower sugar is better)"
   ]
  },
  {
   "cell_type": "code",
   "execution_count": 88,
   "id": "e36d3f2a",
   "metadata": {},
   "outputs": [],
   "source": [
    "df_C['health_index'] = (df_C['fiber'] / df_C['calories']) - (df_C['sugars'] / df_C['calories'])"
   ]
  },
  {
   "cell_type": "markdown",
   "id": "9c402f05",
   "metadata": {},
   "source": [
    "### Sort and display the top cereals by health index"
   ]
  },
  {
   "cell_type": "code",
   "execution_count": null,
   "id": "569cf6aa",
   "metadata": {},
   "outputs": [],
   "source": [
    "print(df_C[['name', 'health_index']].sort_values(by='health_index', ascending=False).head())"
   ]
  },
  {
   "cell_type": "markdown",
   "id": "dafe9f29",
   "metadata": {},
   "source": [
    "### Plot cereal manufacturers and their average health index"
   ]
  },
  {
   "cell_type": "code",
   "execution_count": 128,
   "id": "2b5bcab9",
   "metadata": {},
   "outputs": [
    {
     "ename": "KeyError",
     "evalue": "'Column not found: health_index'",
     "output_type": "error",
     "traceback": [
      "\u001b[1;31m---------------------------------------------------------------------------\u001b[0m",
      "\u001b[1;31mKeyError\u001b[0m                                  Traceback (most recent call last)",
      "Cell \u001b[1;32mIn[128], line 1\u001b[0m\n\u001b[1;32m----> 1\u001b[0m \u001b[43mdf_C\u001b[49m\u001b[38;5;241;43m.\u001b[39;49m\u001b[43mgroupby\u001b[49m\u001b[43m(\u001b[49m\u001b[38;5;124;43m'\u001b[39;49m\u001b[38;5;124;43mmfr\u001b[39;49m\u001b[38;5;124;43m'\u001b[39;49m\u001b[43m)\u001b[49m\u001b[43m[\u001b[49m\u001b[38;5;124;43m'\u001b[39;49m\u001b[38;5;124;43mhealth_index\u001b[39;49m\u001b[38;5;124;43m'\u001b[39;49m\u001b[43m]\u001b[49m\u001b[38;5;241m.\u001b[39mmean()\u001b[38;5;241m.\u001b[39mplot(kind\u001b[38;5;241m=\u001b[39m\u001b[38;5;124m'\u001b[39m\u001b[38;5;124mbar\u001b[39m\u001b[38;5;124m'\u001b[39m, figsize\u001b[38;5;241m=\u001b[39m(\u001b[38;5;241m8\u001b[39m,\u001b[38;5;241m6\u001b[39m), color\u001b[38;5;241m=\u001b[39m\u001b[38;5;124m'\u001b[39m\u001b[38;5;124mgreen\u001b[39m\u001b[38;5;124m'\u001b[39m)\n\u001b[0;32m      2\u001b[0m plt\u001b[38;5;241m.\u001b[39mtitle(\u001b[38;5;124m'\u001b[39m\u001b[38;5;124mAverage Health Index by Manufacturer\u001b[39m\u001b[38;5;124m'\u001b[39m)\n\u001b[0;32m      3\u001b[0m plt\u001b[38;5;241m.\u001b[39mylabel(\u001b[38;5;124m'\u001b[39m\u001b[38;5;124mHealth Index\u001b[39m\u001b[38;5;124m'\u001b[39m)\n",
      "File \u001b[1;32mc:\\Users\\Christian\\anaconda3\\envs\\venv-ml\\lib\\site-packages\\pandas\\core\\groupby\\generic.py:1951\u001b[0m, in \u001b[0;36mDataFrameGroupBy.__getitem__\u001b[1;34m(self, key)\u001b[0m\n\u001b[0;32m   1944\u001b[0m \u001b[38;5;28;01mif\u001b[39;00m \u001b[38;5;28misinstance\u001b[39m(key, \u001b[38;5;28mtuple\u001b[39m) \u001b[38;5;129;01mand\u001b[39;00m \u001b[38;5;28mlen\u001b[39m(key) \u001b[38;5;241m>\u001b[39m \u001b[38;5;241m1\u001b[39m:\n\u001b[0;32m   1945\u001b[0m     \u001b[38;5;66;03m# if len == 1, then it becomes a SeriesGroupBy and this is actually\u001b[39;00m\n\u001b[0;32m   1946\u001b[0m     \u001b[38;5;66;03m# valid syntax, so don't raise\u001b[39;00m\n\u001b[0;32m   1947\u001b[0m     \u001b[38;5;28;01mraise\u001b[39;00m \u001b[38;5;167;01mValueError\u001b[39;00m(\n\u001b[0;32m   1948\u001b[0m         \u001b[38;5;124m\"\u001b[39m\u001b[38;5;124mCannot subset columns with a tuple with more than one element. \u001b[39m\u001b[38;5;124m\"\u001b[39m\n\u001b[0;32m   1949\u001b[0m         \u001b[38;5;124m\"\u001b[39m\u001b[38;5;124mUse a list instead.\u001b[39m\u001b[38;5;124m\"\u001b[39m\n\u001b[0;32m   1950\u001b[0m     )\n\u001b[1;32m-> 1951\u001b[0m \u001b[38;5;28;01mreturn\u001b[39;00m \u001b[38;5;28;43msuper\u001b[39;49m\u001b[43m(\u001b[49m\u001b[43m)\u001b[49m\u001b[38;5;241;43m.\u001b[39;49m\u001b[38;5;21;43m__getitem__\u001b[39;49m\u001b[43m(\u001b[49m\u001b[43mkey\u001b[49m\u001b[43m)\u001b[49m\n",
      "File \u001b[1;32mc:\\Users\\Christian\\anaconda3\\envs\\venv-ml\\lib\\site-packages\\pandas\\core\\base.py:244\u001b[0m, in \u001b[0;36mSelectionMixin.__getitem__\u001b[1;34m(self, key)\u001b[0m\n\u001b[0;32m    242\u001b[0m \u001b[38;5;28;01melse\u001b[39;00m:\n\u001b[0;32m    243\u001b[0m     \u001b[38;5;28;01mif\u001b[39;00m key \u001b[38;5;129;01mnot\u001b[39;00m \u001b[38;5;129;01min\u001b[39;00m \u001b[38;5;28mself\u001b[39m\u001b[38;5;241m.\u001b[39mobj:\n\u001b[1;32m--> 244\u001b[0m         \u001b[38;5;28;01mraise\u001b[39;00m \u001b[38;5;167;01mKeyError\u001b[39;00m(\u001b[38;5;124mf\u001b[39m\u001b[38;5;124m\"\u001b[39m\u001b[38;5;124mColumn not found: \u001b[39m\u001b[38;5;132;01m{\u001b[39;00mkey\u001b[38;5;132;01m}\u001b[39;00m\u001b[38;5;124m\"\u001b[39m)\n\u001b[0;32m    245\u001b[0m     ndim \u001b[38;5;241m=\u001b[39m \u001b[38;5;28mself\u001b[39m\u001b[38;5;241m.\u001b[39mobj[key]\u001b[38;5;241m.\u001b[39mndim\n\u001b[0;32m    246\u001b[0m     \u001b[38;5;28;01mreturn\u001b[39;00m \u001b[38;5;28mself\u001b[39m\u001b[38;5;241m.\u001b[39m_gotitem(key, ndim\u001b[38;5;241m=\u001b[39mndim)\n",
      "\u001b[1;31mKeyError\u001b[0m: 'Column not found: health_index'"
     ]
    }
   ],
   "source": [
    "df_C.groupby('mfr')['health_index'].mean().plot(kind='bar', figsize=(8,6), color='green')\n",
    "plt.title('Average Health Index by Manufacturer')\n",
    "plt.ylabel('Health Index')\n",
    "plt.show()\n"
   ]
  }
 ],
 "metadata": {
  "kernelspec": {
   "display_name": "venv-ml",
   "language": "python",
   "name": "python3"
  },
  "language_info": {
   "codemirror_mode": {
    "name": "ipython",
    "version": 3
   },
   "file_extension": ".py",
   "mimetype": "text/x-python",
   "name": "python",
   "nbconvert_exporter": "python",
   "pygments_lexer": "ipython3",
   "version": "3.10.14"
  }
 },
 "nbformat": 4,
 "nbformat_minor": 5
}
